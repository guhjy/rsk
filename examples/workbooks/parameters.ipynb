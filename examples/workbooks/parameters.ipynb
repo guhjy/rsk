{
 "cells": [
  {
   "cell_type": "markdown",
   "metadata": {},
   "source": [
    "# RSK Parameters"
   ]
  },
  {
   "cell_type": "markdown",
   "metadata": {},
   "source": [
    "This workbook explores how the magnitudes of the different parameters affect the estimated means.  We observe that when the `alpha` process can be estimated with high confidence (i.e. `Q` is small) then RSK substantially outperforms the naive mean, even when `sigma` is huge. Essentially small `Q` dampens out the noise and so that the true `alpha` process dominates the estimation."
   ]
  },
  {
   "cell_type": "code",
   "execution_count": 1,
   "metadata": {
    "collapsed": false
   },
   "outputs": [
    {
     "ename": "ImportError",
     "evalue": "No module named 'rsk'",
     "traceback": [
      "\u001b[1;31m---------------------------------------------------------------------------\u001b[0m",
      "\u001b[1;31mImportError\u001b[0m                               Traceback (most recent call last)",
      "\u001b[1;32m<ipython-input-1-aa6e05beb438>\u001b[0m in \u001b[0;36m<module>\u001b[1;34m()\u001b[0m\n\u001b[0;32m      1\u001b[0m \u001b[1;32mimport\u001b[0m \u001b[0mnumpy\u001b[0m \u001b[1;32mas\u001b[0m \u001b[0mnp\u001b[0m\u001b[1;33m\u001b[0m\u001b[0m\n\u001b[0;32m      2\u001b[0m \u001b[1;32mimport\u001b[0m \u001b[0mscipy\u001b[0m \u001b[1;32mas\u001b[0m \u001b[0msp\u001b[0m\u001b[1;33m\u001b[0m\u001b[0m\n\u001b[1;32m----> 3\u001b[1;33m \u001b[1;32mfrom\u001b[0m \u001b[0mrsk\u001b[0m\u001b[1;33m.\u001b[0m\u001b[0mrsk\u001b[0m \u001b[1;32mimport\u001b[0m \u001b[0mRSK\u001b[0m\u001b[1;33m\u001b[0m\u001b[0m\n\u001b[0m\u001b[0;32m      4\u001b[0m \u001b[1;32mfrom\u001b[0m \u001b[0mrsk\u001b[0m\u001b[1;33m.\u001b[0m\u001b[0mpanel\u001b[0m \u001b[1;32mimport\u001b[0m \u001b[0mPanelSeries\u001b[0m\u001b[1;33m\u001b[0m\u001b[0m\n\u001b[0;32m      5\u001b[0m \u001b[1;33m\u001b[0m\u001b[0m\n",
      "\u001b[1;31mImportError\u001b[0m: No module named 'rsk'"
     ],
     "output_type": "error"
    }
   ],
   "source": [
    "import numpy as np\n",
    "import scipy as sp\n",
    "from rsk.rsk import RSK\n",
    "from rsk.panel import PanelSeries\n",
    "\n",
    "# parameters\n",
    "N,T = 30, 10  # sample size, periods\n",
    "a0 = 1        # initial alpha \n",
    "s = 1e3       # variance scale\n",
    "f = 1.01      # transition scale\n",
    "q = 1e-2      # alpha var scale\n",
    "\n",
    "####################################\n",
    "y = np.zeros((N, T))\n",
    "alpha, alpha_true  = np.zeros(T), np.zeros(T)\n",
    "alpha[0] = a0\n",
    "alpha_true[0]=a0\n",
    "\n",
    "sigma = s*sp.eye(1)\n",
    "Q = q*np.eye(1)\n",
    "F,Z = f*np.eye(1), np.eye(1)\n",
    "\n",
    "y[:,0] = alpha[0] + np.random.normal(0, sigma, size=(N,))\n",
    "for i in range(1,T):\n",
    "    alpha[i] = f*alpha[i-1] + np.random.normal(0, Q)\n",
    "    y[:,i] = alpha[i] + np.random.normal(0, sigma, size=(N,))\n",
    "    alpha_true[i] = F*alpha_true[i-1]\n",
    "\n",
    "# build panel series\n",
    "rows = []    \n",
    "for i,col in enumerate(y.transpose()):\n",
    "    for entry in col:\n",
    "        rows.append([i,\"A\",entry])\n",
    "ps = PanelSeries.from_list(rows)\n",
    "\n",
    "###########################################\n",
    "# compute means\n",
    "naive_means = y.mean(axis=0)\n",
    "\n",
    "a0 = a0*np.eye(1)\n",
    "rsk = RSK(F,Z)\n",
    "fitted_means_smooth = [x[0][0] for x in rsk.fit(ps, a0, Q, Q, smooth=True)]\n",
    "fitted_means = [x[0][0] for x in rsk.fit(ps, a0, Q, Q, smooth=False)]\n",
    "\n",
    "###########################################\n",
    "print(\"mu\\t\\trsk_smooth\\trsk\\t\\tnaive\")\n",
    "for a,w,x,y in zip(alpha_true, fitted_means_smooth, fitted_means, naive_means):\n",
    "    print(\"%.8f\\t%.8f\\t%.8f\\t%.8f\" % (a,w,x,y))"
   ]
  },
  {
   "cell_type": "code",
   "execution_count": null,
   "metadata": {
    "collapsed": true
   },
   "outputs": [],
   "source": [
    ""
   ]
  }
 ],
 "metadata": {
  "kernelspec": {
   "display_name": "Python 3",
   "language": "python",
   "name": "python3"
  },
  "language_info": {
   "codemirror_mode": {
    "name": "ipython",
    "version": 3.0
   },
   "file_extension": ".py",
   "mimetype": "text/x-python",
   "name": "python",
   "nbconvert_exporter": "python",
   "pygments_lexer": "ipython3",
   "version": "3.5.2"
  }
 },
 "nbformat": 4,
 "nbformat_minor": 0
}